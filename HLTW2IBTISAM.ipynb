{
 "metadata": {
  "language_info": {
   "codemirror_mode": {
    "name": "ipython",
    "version": 3
   },
   "file_extension": ".py",
   "mimetype": "text/x-python",
   "name": "python",
   "nbconvert_exporter": "python",
   "pygments_lexer": "ipython3",
   "version": "3.9.5"
  },
  "orig_nbformat": 2,
  "kernelspec": {
   "name": "python395jvsc74a57bd088f474a6105d817211ff39c95e6d8c824d9107577c8c1309677898745d1a4908",
   "display_name": "Python 3.9.5 64-bit"
  },
  "metadata": {
   "interpreter": {
    "hash": "88f474a6105d817211ff39c95e6d8c824d9107577c8c1309677898745d1a4908"
   }
  }
 },
 "nbformat": 4,
 "nbformat_minor": 2,
 "cells": [
  {
   "cell_type": "code",
   "execution_count": null,
   "metadata": {},
   "outputs": [],
   "source": [
    "#this is an appointmemt scheduler for Dr Ali - Data Flow Diagram code#\n",
    "name = input(\"please enter your name\")\n",
    "date = int(input(\"Please enter date? \"))\n",
    "if date < 10:\n",
    "    print(\"Sorry,\", name, + \" the\", date, \"is not available\")\n",
    "elif date <30 and date >10:\n",
    "    print(\"Hello\", name + \",  this date is available, please complete your booking with Dr Ali\")\n",
    "else:\n",
    "     print(\"Sorry, we can only show availability for the next 30 days\")\n",
    "time = int(input(\"Enter time: \"))\n",
    "if time >= 15 or time <= 10:\n",
    "    print(\"Hello, \",name   +\", your appointment at\",  str(time) +\":00\" \" is not available, please chose a different time: \")\n",
    "else: \n",
    "    print(\"Thank you, \", name + \" your appointment at \", str(time) + \":00 \" \" has been successfully booked. \")   \n",
    "         \n",
    "       "
   ]
  },
  {
   "cell_type": "code",
   "execution_count": null,
   "metadata": {},
   "outputs": [],
   "source": [
    "def function_1(bike):\n",
    "    bike=2000\n",
    "    while bike > 1000:\n",
    "        bike *=0.90\n",
    "        print(\"bike value per year:\", bike)\n",
    "    output = \"bike value every year:\", bike \n",
    "    return output\n",
    "   "
   ]
  },
  {
   "cell_type": "code",
   "execution_count": null,
   "metadata": {},
   "outputs": [],
   "source": [
    "x = function_1(\"bike\")\n",
    "\n"
   ]
  },
  {
   "cell_type": "code",
   "execution_count": null,
   "metadata": {},
   "outputs": [],
   "source": [
    "def calculator_1(operator):\n",
    "    first = int(input(\"Enter first number:\"))\n",
    "    second = int(input(\"Enter second number:\"))\n",
    "    operator = input(\"Enter your operator:\")\n",
    "    if operator == \"+\":\n",
    "        print (first + second)\n",
    "    elif operator == \"-\":\n",
    "        print (first - second)\n",
    "    elif operator == \"*\":\n",
    "        print(first * second)\n",
    "    elif operator == \"/\":\n",
    "        print(first / second)\n",
    "    elif operator == \"//\":\n",
    "        print(first // second)\n",
    "    elif operator == \"%\":\n",
    "        print (first % second)\n",
    "    else:\n",
    "        print(\"Error invalid operator \")"
   ]
  },
  {
   "cell_type": "code",
   "execution_count": null,
   "metadata": {},
   "outputs": [],
   "source": [
    "work_out= calculator_1(operator)"
   ]
  },
  {
   "cell_type": "code",
   "execution_count": null,
   "metadata": {},
   "outputs": [],
   "source": [
    "#BELOW ARE NOT PART OF THE HW"
   ]
  },
  {
   "cell_type": "code",
   "execution_count": null,
   "metadata": {},
   "outputs": [],
   "source": [
    "#I was just practising with these to see if i understand the method#\n",
    "def generate_trip_instructions(location):\n",
    "  print(\"Looks like you are planning a trip to visit \" +location)\n",
    "  print(\"You can use the public subway system to get to \" + location)\n"
   ]
  },
  {
   "cell_type": "code",
   "execution_count": null,
   "metadata": {},
   "outputs": [],
   "source": [
    "generate_trip_instructions(\"Central Park\")"
   ]
  },
  {
   "cell_type": "code",
   "execution_count": null,
   "metadata": {},
   "outputs": [],
   "source": [
    "#I was just practising with these to see if i understand the method#\n",
    "def ice_cream_1(place):\n",
    "    flavour = input(\"Pick your favourite flavour\")\n",
    "    print(\"We have a great selection of Icecream. Where would you like to sit to enjoy your ice cream? how about our new \" + place,\"?\" \"bench right outside the gate, enjoy the SUN!\")\n",
    "    print(\"HMM intrested choice of flavour \" + flavour)\n"
   ]
  },
  {
   "cell_type": "code",
   "execution_count": null,
   "metadata": {},
   "outputs": [],
   "source": [
    "message = ice_cream_1(\"Chelsea garden\")"
   ]
  },
  {
   "cell_type": "code",
   "execution_count": null,
   "metadata": {},
   "outputs": [],
   "source": []
  }
 ]
}