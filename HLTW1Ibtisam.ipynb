{
 "metadata": {
  "language_info": {
   "codemirror_mode": {
    "name": "ipython",
    "version": 3
   },
   "file_extension": ".py",
   "mimetype": "text/x-python",
   "name": "python",
   "nbconvert_exporter": "python",
   "pygments_lexer": "ipython3",
   "version": "3.9.5"
  },
  "orig_nbformat": 2,
  "kernelspec": {
   "name": "python395jvsc74a57bd088f474a6105d817211ff39c95e6d8c824d9107577c8c1309677898745d1a4908",
   "display_name": "Python 3.9.5 64-bit"
  },
  "metadata": {
   "interpreter": {
    "hash": "88f474a6105d817211ff39c95e6d8c824d9107577c8c1309677898745d1a4908"
   }
  }
 },
 "nbformat": 4,
 "nbformat_minor": 2,
 "cells": [
  {
   "cell_type": "code",
   "execution_count": null,
   "metadata": {},
   "outputs": [],
   "source": [
    "import random\n",
    "name=input(\"what is your name\")\n",
    "value =random.randint(1, 10)\n",
    "print(\"hello,\" + name + \" can you guess my random number ?  \")\n",
    "guess= int(input(\"pick a number between 1 to 10\"))\n",
    "if guess == value:\n",
    "    print(\"great job\")\n",
    "else:\n",
    "    print(\"better luck next time\")"
   ]
  },
  {
   "cell_type": "code",
   "execution_count": null,
   "metadata": {},
   "outputs": [],
   "source": [
    "favourite_number = int(input(\"what is your favourite number between 1 and 100\"))\n",
    "if favourite_number <20:\n",
    "    print(\"joke one\")\n",
    "elif favourite_number <=50:\n",
    "        print(\"joke two\")\n",
    "elif favourite_number >90:\n",
    "            print(\"joke three\")\n",
    "else:\n",
    "                print(\" better luck next time\")"
   ]
  },
  {
   "cell_type": "code",
   "execution_count": null,
   "metadata": {},
   "outputs": [],
   "source": [
    "Starter= input(\"what is your fav starter\")\n",
    "Main_course= input(\"what is your fav main course?\")\n",
    "Dessert= input(\"what is your fav dessert?\")\n",
    "Drink= input(\"what is your fav drink?\")\n",
    "\n",
    "print (\"Your fav starter \" + Starter + \" your fav main course is \" + Main_course  + \" and your fav dessert is \" +Dessert + \" your fav drink is \" + Drink)\n",
    "\n",
    "\n"
   ]
  },
  {
   "cell_type": "code",
   "execution_count": null,
   "metadata": {},
   "outputs": [],
   "source": [
    "bike=2000\n",
    "while bike > 1000:\n",
    "    print(\"bike value every year:\", bike)\n",
    "    bike *=0.90"
   ]
  },
  {
   "cell_type": "code",
   "execution_count": null,
   "metadata": {},
   "outputs": [],
   "source": [
    "x = int(input(\"what is your first number? \"))\n",
    "y = int(input(\"what is your second number? \"))\n",
    "operator = input(\"enter your operator: \")\n",
    "\n",
    "if operator == \"+\":\n",
    "    print(x + y)\n",
    "elif operator == \"-\":\n",
    "    print(x - y)\n",
    "elif operator == \"/\":\n",
    "    print(x / y)\n",
    "elif operator == \"*\":\n",
    "    print(x * y)\n",
    "elif operator == \"**\":\n",
    "    print(x ** y)\n",
    "else:\n",
    "    print(\" invalid operator, please try again\")"
   ]
  },
  {
   "cell_type": "code",
   "execution_count": null,
   "metadata": {},
   "outputs": [],
   "source": []
  }
 ]
}