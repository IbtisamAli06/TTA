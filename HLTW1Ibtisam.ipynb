{
 "metadata": {
  "language_info": {
   "codemirror_mode": {
    "name": "ipython",
    "version": 3
   },
   "file_extension": ".py",
   "mimetype": "text/x-python",
   "name": "python",
   "nbconvert_exporter": "python",
   "pygments_lexer": "ipython3",
   "version": "3.9.5"
  },
  "orig_nbformat": 2,
  "kernelspec": {
   "name": "python395jvsc74a57bd088f474a6105d817211ff39c95e6d8c824d9107577c8c1309677898745d1a4908",
   "display_name": "Python 3.9.5 64-bit"
  },
  "metadata": {
   "interpreter": {
    "hash": "88f474a6105d817211ff39c95e6d8c824d9107577c8c1309677898745d1a4908"
   }
  }
 },
 "nbformat": 4,
 "nbformat_minor": 2,
 "cells": [
  {
   "cell_type": "code",
   "execution_count": 178,
   "metadata": {},
   "outputs": [
    {
     "output_type": "stream",
     "name": "stdout",
     "text": [
      "hello,sam can you guess my random number ?  \n",
      "better luck next time\n"
     ]
    }
   ],
   "source": [
    "import random\n",
    "name=input(\"what is your name\")\n",
    "value =random.randint(1, 10)\n",
    "print(\"hello,\" + name + \" can you guess my random number ?  \")\n",
    "guess= int(input(\"pick a number between 1 to 10\"))\n",
    "if guess == value:\n",
    "    print(\"great job\")\n",
    "else:\n",
    "    print(\"better luck next time\")"
   ]
  },
  {
   "cell_type": "code",
   "execution_count": 188,
   "metadata": {},
   "outputs": [
    {
     "output_type": "stream",
     "name": "stdout",
     "text": [
      "Your fav starter ty your fav main course is yu and your fav dessert is io your fav drink is op\n"
     ]
    }
   ],
   "source": [
    "Starter= input(\"what is your fav starter\")\n",
    "Main_course= input(\"what is your fav main course?\")\n",
    "Dessert= input(\"what is your fav dessert?\")\n",
    "Drink= input(\"what is your fav drink?\")\n",
    "\n",
    "print (\"Your fav starter \" + Starter + \" your fav main course is \" + Main_course  + \" and your fav dessert is \" +Dessert + \" your fav drink is \" + Drink)"
   ]
  },
  {
   "cell_type": "code",
   "execution_count": 200,
   "metadata": {},
   "outputs": [
    {
     "output_type": "stream",
     "name": "stdout",
     "text": [
      "hello, lets play a little game\n"
     ]
    }
   ],
   "source": [
    "print(\"hello, lets play a little game\")\n",
    "x = input(\"whats your favourite number between 1 to 100\")\n",
    "\n",
    "#number= [1,2,3,4,5,6,6,7,8,9,10,]\n",
    "if x :\n",
    "    print(\" i got into a fight with 1, 3, 5, 7, 9, 11, 13,and 9. – The odds were against me\" + x)\n",
    "\n",
    "\n"
   ]
  },
  {
   "cell_type": "code",
   "execution_count": 34,
   "metadata": {},
   "outputs": [],
   "source": [
    "below1k = \"false\"\n",
    "value = 2000\n",
    "while below1k == False:\n",
    "    print(\"£\", value)\n",
    "    value = value *0.9\n",
    "    if value < 1000:\n",
    "        below1k =\"true\""
   ]
  },
  {
   "cell_type": "code",
   "execution_count": null,
   "metadata": {},
   "outputs": [],
   "source": []
  }
 ]
}