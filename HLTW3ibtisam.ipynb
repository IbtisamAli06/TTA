{
 "metadata": {
  "language_info": {
   "codemirror_mode": {
    "name": "ipython",
    "version": 3
   },
   "file_extension": ".py",
   "mimetype": "text/x-python",
   "name": "python",
   "nbconvert_exporter": "python",
   "pygments_lexer": "ipython3",
   "version": "3.9.5"
  },
  "orig_nbformat": 2,
  "kernelspec": {
   "name": "python395jvsc74a57bd088f474a6105d817211ff39c95e6d8c824d9107577c8c1309677898745d1a4908",
   "display_name": "Python 3.9.5 64-bit"
  },
  "metadata": {
   "interpreter": {
    "hash": "88f474a6105d817211ff39c95e6d8c824d9107577c8c1309677898745d1a4908"
   }
  }
 },
 "nbformat": 4,
 "nbformat_minor": 2,
 "cells": [
  {
   "cell_type": "code",
   "execution_count": 15,
   "metadata": {},
   "outputs": [
    {
     "output_type": "stream",
     "name": "stdout",
     "text": [
      "3\n45\n83\n213\n"
     ]
    }
   ],
   "source": [
    "file_1 = open(\"numbers.text\", \"r\") \n",
    "print(file_1.read())\n",
    "file_1.close()"
   ]
  },
  {
   "cell_type": "code",
   "execution_count": null,
   "metadata": {},
   "outputs": [],
   "source": [
    "def mark_grade(percentage):\n",
    "    print(\"Hello, welcome to our grade system, please follow the intructions:\")\n",
    "    name= input(\"Please Enter your name: \")\n",
    "    percentage=int(input(\"Please Enter your percentage mark: \"))\n",
    "    if percentage <40 or percentage <= 49:\n",
    "        print(\"Unfortunatly,\", name +\" ,you have not passed this module:\" \"grade: D\")\n",
    "    elif percentage > 50 and percentage <60:\n",
    "        print(name +\" ,you have have passed the module:\" \"grade: C\")\n",
    "    elif percentage >=60 and percentage <80:\n",
    "        print(name+\",you have passed the module:\" \"grade:B\")\n",
    "    elif percentage >=80 and percentage <= 100:\n",
    "        print(\"Excellent\", name+\", you have succesfully passed the module:\"\"grade: A\")\n",
    "    else:\n",
    "        print(\"Error\")\n",
    "    return name"
   ]
  },
  {
   "cell_type": "code",
   "execution_count": null,
   "metadata": {},
   "outputs": [],
   "source": [
    "x = mark_grade(\"name\")\n",
    "print(x)"
   ]
  },
  {
   "cell_type": "code",
   "execution_count": 11,
   "metadata": {},
   "outputs": [
    {
     "output_type": "stream",
     "name": "stdout",
     "text": [
      "[0 1 2 3 4 5 6 7 8 9]\n"
     ]
    }
   ],
   "source": [
    "import numpy as np\n",
    "array= np.array([0, 1, 2, 3, 4, 5, 6,7,8,9])\n",
    "print(array)\n"
   ]
  },
  {
   "cell_type": "code",
   "execution_count": 10,
   "metadata": {},
   "outputs": [
    {
     "output_type": "stream",
     "name": "stdout",
     "text": [
      "[[1 2 3]\n [4 5 6]\n [7 8 9]]\n"
     ]
    }
   ],
   "source": [
    "array =np.array([1,2,3,4,5,6,7,8,9])\n",
    "new_array=array.reshape(3,3)\n",
    "print(new_array)"
   ]
  },
  {
   "cell_type": "code",
   "execution_count": 9,
   "metadata": {},
   "outputs": [
    {
     "output_type": "stream",
     "name": "stdout",
     "text": [
      "[ 0  2  4  6  8 10]\n"
     ]
    }
   ],
   "source": [
    "array=np.arange(0,12,2)\n",
    "print(array)"
   ]
  },
  {
   "cell_type": "code",
   "execution_count": null,
   "metadata": {},
   "outputs": [],
   "source": [
    "array=np.arange(1,12,)\n",
    "print(\"substract:\", array-1)"
   ]
  },
  {
   "cell_type": "code",
   "execution_count": 8,
   "metadata": {},
   "outputs": [
    {
     "output_type": "stream",
     "name": "stdout",
     "text": [
      "[[1 2 3 4]\n [5 6 7 8]]\n"
     ]
    }
   ],
   "source": [
    "first_d= np.array ([(1,2,3,4),(5,6,7,8)])\n",
    "print(first_d)"
   ]
  },
  {
   "cell_type": "code",
   "execution_count": 14,
   "metadata": {},
   "outputs": [
    {
     "output_type": "stream",
     "name": "stdout",
     "text": [
      "141\n"
     ]
    }
   ],
   "source": [
    "a=np.array([6,7,10])\n",
    "b=np.array([8,9,3])\n",
    "c=np.dot(a,b)\n",
    "sum=np.sum(c)\n",
    "print(c)\n"
   ]
  },
  {
   "cell_type": "code",
   "execution_count": null,
   "metadata": {},
   "outputs": [],
   "source": []
  }
 ]
}